{
  "nbformat": 4,
  "nbformat_minor": 0,
  "metadata": {
    "colab": {
      "name": "StackExachange_tags_part1.ipynb",
      "provenance": [],
      "toc_visible": true,
      "include_colab_link": true
    },
    "kernelspec": {
      "name": "python3",
      "display_name": "Python 3"
    },
    "accelerator": "GPU"
  },
  "cells": [
    {
      "cell_type": "markdown",
      "metadata": {
        "id": "view-in-github",
        "colab_type": "text"
      },
      "source": [
        "<a href=\"https://colab.research.google.com/github/aks2093/StackExchange-Question-Tags-Prediction/blob/master/StackExachange_tags_part1.ipynb\" target=\"_parent\"><img src=\"https://colab.research.google.com/assets/colab-badge.svg\" alt=\"Open In Colab\"/></a>"
      ]
    },
    {
      "cell_type": "markdown",
      "metadata": {
        "id": "mFkQKC5o0NBU",
        "colab_type": "text"
      },
      "source": [
        "# Import Necessary Libraries \n"
      ]
    },
    {
      "cell_type": "code",
      "metadata": {
        "id": "WcJxKGI_1Hq_",
        "colab_type": "code",
        "colab": {
          "base_uri": "https://localhost:8080/",
          "height": 118
        },
        "outputId": "b7882e95-35de-4398-c3ed-7e38668a5552"
      },
      "source": [
        "from google.colab import drive\n",
        "drive.mount('/content/drive')"
      ],
      "execution_count": null,
      "outputs": [
        {
          "output_type": "stream",
          "text": [
            "Go to this URL in a browser: https://accounts.google.com/o/oauth2/auth?client_id=947318989803-6bn6qk8qdgf4n4g3pfee6491hc0brc4i.apps.googleusercontent.com&redirect_uri=urn%3aietf%3awg%3aoauth%3a2.0%3aoob&response_type=code&scope=email%20https%3a%2f%2fwww.googleapis.com%2fauth%2fdocs.test%20https%3a%2f%2fwww.googleapis.com%2fauth%2fdrive%20https%3a%2f%2fwww.googleapis.com%2fauth%2fdrive.photos.readonly%20https%3a%2f%2fwww.googleapis.com%2fauth%2fpeopleapi.readonly\n",
            "\n",
            "Enter your authorization code:\n",
            "··········\n",
            "Mounted at /content/drive\n"
          ],
          "name": "stdout"
        }
      ]
    },
    {
      "cell_type": "code",
      "metadata": {
        "id": "W6HfVkjSyq_J",
        "colab_type": "code",
        "colab": {
          "base_uri": "https://localhost:8080/",
          "height": 33
        },
        "outputId": "3bd12649-10fc-4baa-8e78-5f715a2835ab"
      },
      "source": [
        "from bs4 import BeautifulSoup\n",
        "from keras import backend as K\n",
        "from nltk.stem import WordNetLemmatizer\n",
        "from nltk.corpus import stopwords\n",
        "from nltk.tokenize import word_tokenize\n",
        "import os\n",
        "import string\n",
        "from sklearn.utils import shuffle\n",
        "import pandas as pd\n",
        "from sklearn.preprocessing import MultiLabelBinarizer\n",
        "from keras.preprocessing.text import Tokenizer\n",
        "from keras.preprocessing.sequence import pad_sequences\n",
        "import math\n",
        "import statistics\n",
        "import tensorflow\n",
        "from tensorflow.keras.layers import Dense, Embedding, Dropout, Flatten, Input, LSTM, Convolution1D, MaxPooling1D\n",
        "from tensorflow.compat.v1.keras.layers import CuDNNLSTM\n",
        "from tensorflow.keras.models import Model\n",
        "from tensorflow.keras.layers import BatchNormalization, PReLU, Activation\n",
        "import collections\n",
        "from pprint import pprint\n"
      ],
      "execution_count": null,
      "outputs": [
        {
          "output_type": "stream",
          "text": [
            "Using TensorFlow backend.\n"
          ],
          "name": "stderr"
        }
      ]
    },
    {
      "cell_type": "markdown",
      "metadata": {
        "id": "WaFxusCt5F6G",
        "colab_type": "text"
      },
      "source": [
        "# Import nltk "
      ]
    },
    {
      "cell_type": "code",
      "metadata": {
        "id": "yGDOnQtp2PzS",
        "colab_type": "code",
        "colab": {
          "base_uri": "https://localhost:8080/",
          "height": 131
        },
        "outputId": "4d1192d1-3705-4791-ac7d-fab859a62028"
      },
      "source": [
        "import nltk\n",
        "nltk.download('stopwords')\n",
        "nltk.download('punkt')\n",
        "nltk.download('wordnet')"
      ],
      "execution_count": null,
      "outputs": [
        {
          "output_type": "stream",
          "text": [
            "[nltk_data] Downloading package stopwords to /root/nltk_data...\n",
            "[nltk_data]   Unzipping corpora/stopwords.zip.\n",
            "[nltk_data] Downloading package punkt to /root/nltk_data...\n",
            "[nltk_data]   Unzipping tokenizers/punkt.zip.\n",
            "[nltk_data] Downloading package wordnet to /root/nltk_data...\n",
            "[nltk_data]   Unzipping corpora/wordnet.zip.\n"
          ],
          "name": "stdout"
        },
        {
          "output_type": "execute_result",
          "data": {
            "text/plain": [
              "True"
            ]
          },
          "metadata": {
            "tags": []
          },
          "execution_count": 3
        }
      ]
    },
    {
      "cell_type": "markdown",
      "metadata": {
        "id": "k8HwYZZ_0b8y",
        "colab_type": "text"
      },
      "source": [
        "# Define Utility Functions and variables/objects"
      ]
    },
    {
      "cell_type": "code",
      "metadata": {
        "id": "z5VHy_LI0iHb",
        "colab_type": "code",
        "colab": {}
      },
      "source": [
        "# DATA_DIR = r\"C:\\Users\\amis\\PycharmProjects\\stackexchange_tags\\data\"\n",
        "DATA_DIR = \"/content/drive/My Drive/stackExchange_tag_predictions/data\"\n",
        "\n",
        "\n",
        "lemma=WordNetLemmatizer()\n",
        "stop_words = set(stopwords.words(\"english\"))\n",
        "punct = '!\"#$%&\\'()*+,./:;<=>?@[\\\\]^_`{|}~'\n",
        "\n",
        "# Parse html\n",
        "def parse_html(data):\n",
        "    soup = BeautifulSoup(data, 'html.parser')\n",
        "    soup = soup.get_text()\n",
        "    soup = BeautifulSoup(soup, 'html.parser')\n",
        "    soup = soup.decode('utf8')\n",
        "    text = soup.replace('\\n', ' ')\n",
        "    return text\n",
        "\n",
        "#lammatize the feature texts\n",
        "def lemmatization(text):\n",
        "    words = word_tokenize(text)\n",
        "    listLemma = []\n",
        "    for w in words:\n",
        "        x = lemma.lemmatize(w, pos=\"v\")\n",
        "        listLemma.append(x)\n",
        "    return ' '.join(map(str, listLemma))\n",
        "\n",
        "\n",
        "#Function to remove stopwords from feature texts\n",
        "def stopWordsRemove(text):\n",
        "    stop_words = set(stopwords.words(\"english\"))\n",
        "    words = word_tokenize(text)\n",
        "    filtered = [w for w in words if not w in stop_words]\n",
        "    return ' '.join(map(str, filtered))\n",
        "\n"
      ],
      "execution_count": null,
      "outputs": []
    },
    {
      "cell_type": "markdown",
      "metadata": {
        "id": "cLyS9L6-R77A",
        "colab_type": "text"
      },
      "source": [
        "# Evaluation Metrics(Micro F1 Score, Jaccard_Distance, Hamming_Loss)"
      ]
    },
    {
      "cell_type": "code",
      "metadata": {
        "id": "HyvgbcO6SBKg",
        "colab_type": "code",
        "colab": {}
      },
      "source": [
        "def micro_f1_score(y_true, y_pred, threshold=None):\n",
        "    def recall(y_true, y_pred):\n",
        "        true_positives = K.sum(K.round(K.clip(y_true * y_pred, 0, 1)))\n",
        "        possible_positives = K.sum(K.round(K.clip(y_true, 0, 1)))\n",
        "        recall = true_positives / (possible_positives + K.epsilon())\n",
        "        return recall\n",
        "\n",
        "    def precision(y_true, y_pred):\n",
        "        true_positives = K.sum(K.round(K.clip(y_true * y_pred, 0, 1)))\n",
        "        predicted_positives = K.sum(K.round(K.clip(y_pred, 0, 1)))\n",
        "        precision = true_positives / (predicted_positives + K.epsilon())\n",
        "        return precision\n",
        "    \n",
        "    if threshold is None:\n",
        "        threshold = tensorflow.reduce_max(y_pred, axis=-1, keepdims=True)\n",
        "        y_pred = tensorflow.logical_and(y_pred >= threshold, tensorflow.abs(y_pred) > 1e-12)\n",
        "    else:\n",
        "        y_pred = y_pred > threshold\n",
        "    \n",
        "    y_true = tensorflow.cast(y_true, tensorflow.float32)\n",
        "    y_pred = tensorflow.cast(y_pred, tensorflow.float32)\n",
        "\n",
        "    precision = precision(y_true, y_pred)\n",
        "    recall = recall(y_true, y_pred)\n",
        "    return 2*((precision*recall)/(precision+recall+K.epsilon()))\n",
        "\n",
        "def jaccard_distance(y_true, y_pred, threshold=None, smooth=100):\n",
        "    if threshold is None:\n",
        "        threshold = tensorflow.reduce_max(y_pred, axis=-1, keepdims=True)\n",
        "        y_pred = tensorflow.logical_and(y_pred >= threshold, tensorflow.abs(y_pred) > 1e-12)\n",
        "    else:\n",
        "        y_pred = y_pred > threshold\n",
        "    \n",
        "    y_true = tensorflow.cast(y_true, tensorflow.int32)\n",
        "    y_pred = tensorflow.cast(y_pred, tensorflow.int32)\n",
        "\n",
        "    intersection = K.sum(K.abs(y_true * y_pred), axis=-1)\n",
        "    sum_ = K.sum(K.abs(y_true) + K.abs(y_pred), axis=-1)\n",
        "    jac = (intersection + smooth) / (sum_ - intersection + smooth)\n",
        "    return (1 - jac)\n",
        "\n",
        "def hamming_loss(y_true, y_pred, threshold=None):\n",
        "    if threshold is None:\n",
        "        threshold = tensorflow.reduce_max(y_pred, axis=-1, keepdims=True)\n",
        "        y_pred = tensorflow.logical_and(y_pred >= threshold, tensorflow.abs(y_pred) > 1e-12)\n",
        "    else:\n",
        "        y_pred = y_pred > threshold\n",
        "\n",
        "    y_true = tensorflow.cast(y_true, tensorflow.int32)\n",
        "    y_pred = tensorflow.cast(y_pred, tensorflow.int32)\n",
        "\n",
        "    nonzero = tensorflow.cast(tensorflow.math.count_nonzero(y_true - y_pred, axis=-1), tensorflow.float32)\n",
        "    return nonzero / y_true.get_shape()[-1]"
      ],
      "execution_count": null,
      "outputs": []
    },
    {
      "cell_type": "markdown",
      "metadata": {
        "id": "BerWZxis0LEe",
        "colab_type": "text"
      },
      "source": [
        "# Import Data"
      ]
    },
    {
      "cell_type": "code",
      "metadata": {
        "id": "zxfaxCX303HY",
        "colab_type": "code",
        "colab": {
          "base_uri": "https://localhost:8080/",
          "height": 147
        },
        "outputId": "df3c7516-39e1-4cce-a9f5-5ce300d079b0"
      },
      "source": [
        "BIOLOGY_CSV = os.path.join(DATA_DIR,\"biology\",\"biology.csv\")\n",
        "COOKING_CSV = os.path.join(DATA_DIR,\"cooking\",\"cooking.csv\")\n",
        "CRYPTO_CSV = os.path.join(DATA_DIR, \"crypto\",\"crypto.csv\")\n",
        "DIY_CSV = os.path.join(DATA_DIR, \"diy\",\"diy.csv\")\n",
        "ROBOTS_CSV = os.path.join(DATA_DIR, \"robotics\", \"robotics.csv\")\n",
        "TRAVEL_CSV = os.path.join(DATA_DIR, \"travel\",\"travel.csv\")\n",
        "TEST_CSV = os.path.join(DATA_DIR, \"test\", \"test.csv\")\n",
        "\n",
        "biology_df = pd.read_csv(BIOLOGY_CSV)\n",
        "cooking_df = pd.read_csv(COOKING_CSV)\n",
        "crypto_df = pd.read_csv(CRYPTO_CSV)\n",
        "diy_df = pd.read_csv(DIY_CSV)\n",
        "robotics_df = pd.read_csv(ROBOTS_CSV)\n",
        "travel_df = pd.read_csv(TRAVEL_CSV)\n",
        "test_df = pd.read_csv(TEST_CSV)\n",
        "\n",
        "biology_df = biology_df[['title', 'content', 'tags']]\n",
        "cooking_df = cooking_df[['title', 'content', 'tags']]\n",
        "cryptology_df = crypto_df[['title', 'content', 'tags']]\n",
        "diy_df = diy_df[['title', 'content', 'tags']]\n",
        "robotics_df = robotics_df[['title', 'content', 'tags']]\n",
        "travel_df = travel_df[['title', 'content', 'tags']]\n",
        "test_df = test_df[['title', 'content']]\n",
        "\n",
        "print(\"Before dropping the NaNs.....\")\n",
        "print(\"biology Data len: {}\".format(biology_df.__len__()))\n",
        "print(\"cooking Data len: {}\".format(cooking_df.__len__()))\n",
        "print(\"cryptology Data len: {}\".format(cryptology_df.__len__()))\n",
        "print(\"diy Data len: {}\".format(diy_df.__len__()))\n",
        "print(\"robotics Data len: {}\".format(robotics_df.__len__()))\n",
        "print(\"travel Data len: {}\".format(travel_df.__len__()))\n",
        "print(\"test Data len: {}\".format(test_df.__len__()))"
      ],
      "execution_count": null,
      "outputs": [
        {
          "output_type": "stream",
          "text": [
            "Before dropping the NaNs.....\n",
            "biology Data len: 13196\n",
            "cooking Data len: 15404\n",
            "cryptology Data len: 10432\n",
            "diy Data len: 25918\n",
            "robotics Data len: 2771\n",
            "travel Data len: 19279\n",
            "test Data len: 81926\n"
          ],
          "name": "stdout"
        }
      ]
    },
    {
      "cell_type": "markdown",
      "metadata": {
        "id": "ZLbibxw4051n",
        "colab_type": "text"
      },
      "source": [
        "# Preprocess Data"
      ]
    },
    {
      "cell_type": "code",
      "metadata": {
        "id": "HbSlxwMu09kB",
        "colab_type": "code",
        "colab": {
          "base_uri": "https://localhost:8080/",
          "height": 326
        },
        "outputId": "c426bd2a-fd14-479f-bcd7-df3eee7ea780"
      },
      "source": [
        "#treating biology data frame\n",
        "biology_df.dropna(inplace=True)\n",
        "biology_df = biology_df.reset_index()\n",
        "biology_df[\"content\"] = biology_df[\"content\"].apply(parse_html)\n",
        "biology_df[\"content\"] = biology_df[\"content\"].apply(lambda x: x.lower())\n",
        "biology_df[\"content\"] = biology_df[\"content\"].apply(lambda x: x.translate(str.maketrans(\"\",\"\", string.punctuation)))\n",
        "biology_df[\"content\"] = biology_df[\"content\"].apply(lemmatization)\n",
        "biology_df[\"content\"] = biology_df[\"content\"].apply(stopWordsRemove)\n",
        "\n",
        "biology_df[\"title\"] = biology_df[\"title\"].apply(lambda x: x.lower())\n",
        "biology_df[\"title\"] = biology_df[\"title\"].apply(lambda x: x.translate(str.maketrans(\"\",\"\", string.punctuation)))\n",
        "biology_df[\"title\"] = biology_df[\"title\"].apply(lemmatization)\n",
        "biology_df[\"title\"] = biology_df[\"title\"].apply(stopWordsRemove)\n",
        "\n",
        "biology_df[\"title_content\"] = biology_df[\"content\"]+\" \"+biology_df[\"title\"]\n",
        "print(\"biology data preprocessing Done.....\")\n",
        "\n",
        "#treating cooking dataframe\n",
        "cooking_df.dropna(inplace=True)\n",
        "cooking_df = cooking_df.reset_index()\n",
        "cooking_df[\"content\"] = cooking_df[\"content\"].apply(parse_html)\n",
        "cooking_df[\"content\"] = cooking_df[\"content\"].apply(lambda x: x.lower())\n",
        "cooking_df[\"content\"] = cooking_df[\"content\"].apply(lambda x: x.translate(str.maketrans(\"\",\"\", string.punctuation)))\n",
        "cooking_df[\"content\"] = cooking_df[\"content\"].apply(lemmatization)\n",
        "cooking_df[\"content\"] = cooking_df[\"content\"].apply(stopWordsRemove)\n",
        "\n",
        "cooking_df[\"title\"] = cooking_df[\"title\"].apply(lambda x: x.lower())\n",
        "cooking_df[\"title\"] = cooking_df[\"title\"].apply(lambda x: x.translate(str.maketrans(\"\",\"\", string.punctuation)))\n",
        "cooking_df[\"title\"] = cooking_df[\"title\"].apply(lemmatization)\n",
        "cooking_df[\"title\"] = cooking_df[\"title\"].apply(stopWordsRemove)\n",
        "cooking_df[\"title_content\"] = cooking_df[\"content\"]+\" \"+cooking_df[\"title\"]\n",
        "print(\"cooking data preprocessing Done.....\")\n",
        "\n",
        "#treating cryptology dataframe\n",
        "cryptology_df.dropna(inplace=True)\n",
        "cryptology_df = cryptology_df.reset_index()\n",
        "cryptology_df[\"content\"] = cryptology_df[\"content\"].apply(parse_html)\n",
        "cryptology_df[\"content\"] = cryptology_df[\"content\"].apply(lambda x: x.lower())\n",
        "cryptology_df[\"content\"] = cryptology_df[\"content\"].apply(lambda x: x.translate(str.maketrans(\"\",\"\", string.punctuation)))\n",
        "cryptology_df[\"content\"] = cryptology_df[\"content\"].apply(lemmatization)\n",
        "cryptology_df[\"content\"] = cryptology_df[\"content\"].apply(stopWordsRemove)\n",
        "\n",
        "cryptology_df[\"title\"] = cryptology_df[\"title\"].apply(lambda x: x.lower())\n",
        "cryptology_df[\"title\"] = cryptology_df[\"title\"].apply(lambda x: x.translate(str.maketrans(\"\",\"\", string.punctuation)))\n",
        "cryptology_df[\"title\"] = cryptology_df[\"title\"].apply(lemmatization)\n",
        "cryptology_df[\"title\"] = cryptology_df[\"title\"].apply(stopWordsRemove)\n",
        "\n",
        "cryptology_df[\"title_content\"] = cryptology_df[\"content\"]+\" \"+cryptology_df[\"title\"]\n",
        "print(\"cryptology data preprocessing Done.....\")\n",
        "\n",
        "#treating diy dataframe\n",
        "diy_df.dropna(inplace=True)\n",
        "diy_df = diy_df.reset_index()\n",
        "diy_df[\"content\"] = diy_df[\"content\"].apply(parse_html)\n",
        "diy_df[\"content\"] = diy_df[\"content\"].apply(lambda x: x.lower())\n",
        "diy_df[\"content\"] = diy_df[\"content\"].apply(lambda x: x.translate(str.maketrans(\"\",\"\", string.punctuation)))\n",
        "diy_df[\"content\"] = diy_df[\"content\"].apply(lemmatization)\n",
        "diy_df[\"content\"] = diy_df[\"content\"].apply(stopWordsRemove)\n",
        "\n",
        "diy_df[\"title\"] = diy_df[\"title\"].apply(lambda x: x.lower())\n",
        "diy_df[\"title\"] = diy_df[\"title\"].apply(lambda x: x.translate(str.maketrans(\"\",\"\", string.punctuation)))\n",
        "diy_df[\"title\"] = diy_df[\"title\"].apply(lemmatization)\n",
        "diy_df[\"title\"] = diy_df[\"title\"].apply(stopWordsRemove)\n",
        "\n",
        "diy_df[\"title_content\"] = diy_df[\"content\"]+\" \"+diy_df[\"title\"]\n",
        "print(\"diy data preprocessing Done.....\")\n",
        "\n",
        "#treating robotics dataframe\n",
        "robotics_df.dropna(inplace=True)\n",
        "robotics_df = robotics_df.reset_index()\n",
        "robotics_df[\"content\"] = robotics_df[\"content\"].apply(parse_html)\n",
        "robotics_df[\"content\"] = robotics_df[\"content\"].apply(parse_html)\n",
        "robotics_df[\"content\"] = robotics_df[\"content\"].apply(lambda x: x.lower())\n",
        "robotics_df[\"content\"] = robotics_df[\"content\"].apply(lambda x: x.translate(str.maketrans(\"\",\"\", string.punctuation)))\n",
        "robotics_df[\"content\"] = robotics_df[\"content\"].apply(lemmatization)\n",
        "robotics_df[\"content\"] = robotics_df[\"content\"].apply(stopWordsRemove)\n",
        "\n",
        "robotics_df[\"title\"] = robotics_df[\"title\"].apply(lambda x: x.lower())\n",
        "robotics_df[\"title\"] = robotics_df[\"title\"].apply(lambda x: x.translate(str.maketrans(\"\",\"\", string.punctuation)))\n",
        "robotics_df[\"title\"] = robotics_df[\"title\"].apply(lemmatization)\n",
        "robotics_df[\"title\"] = robotics_df[\"title\"].apply(stopWordsRemove)\n",
        "\n",
        "robotics_df[\"title_content\"] = robotics_df[\"content\"]+\" \"+robotics_df[\"title\"]\n",
        "print(\"robotics data preprocessing Done.....\")\n",
        "\n",
        "#treating travel dataframe\n",
        "travel_df.dropna(inplace=True)\n",
        "travel_df = travel_df.reset_index()\n",
        "travel_df[\"content\"] = travel_df[\"content\"].apply(parse_html)\n",
        "travel_df[\"content\"] = travel_df[\"content\"].apply(lambda x: x.lower())\n",
        "travel_df[\"content\"] = travel_df[\"content\"].apply(lambda x: x.translate(str.maketrans(\"\",\"\", string.punctuation)))\n",
        "travel_df[\"content\"] = travel_df[\"content\"].apply(lemmatization)\n",
        "travel_df[\"content\"] = travel_df[\"content\"].apply(stopWordsRemove)\n",
        "\n",
        "travel_df[\"title\"] = travel_df[\"title\"].apply(lambda x: x.lower())\n",
        "travel_df[\"title\"] = travel_df[\"title\"].apply(lambda x: x.translate(str.maketrans(\"\",\"\", string.punctuation)))\n",
        "travel_df[\"title\"] = travel_df[\"title\"].apply(lemmatization)\n",
        "travel_df[\"title\"] = travel_df[\"title\"].apply(stopWordsRemove)\n",
        "\n",
        "travel_df[\"title_content\"] = travel_df[\"content\"]+\" \"+travel_df[\"title\"]\n",
        "print(\"travel data preprocessing Done.....\")\n",
        "\n",
        "#treating test dataframe\n",
        "test_df[\"content\"] = test_df[\"content\"].apply(parse_html)\n",
        "test_df[\"content\"] = test_df[\"content\"].apply(lambda x: x.lower())\n",
        "test_df[\"content\"] = test_df[\"content\"].apply(lambda x: x.translate(str.maketrans(\"\",\"\", string.punctuation)))\n",
        "test_df[\"content\"] = test_df[\"content\"].apply(lemmatization)\n",
        "test_df[\"content\"] = test_df[\"content\"].apply(stopWordsRemove)\n",
        "\n",
        "test_df[\"title\"] = test_df[\"title\"].apply(lambda x: x.lower())\n",
        "test_df[\"title\"] = test_df[\"title\"].apply(lambda x: x.translate(str.maketrans(\"\",\"\", string.punctuation)))\n",
        "test_df[\"title\"] = test_df[\"title\"].apply(lemmatization)\n",
        "test_df[\"title\"] = test_df[\"title\"].apply(stopWordsRemove)\n",
        "\n",
        "test_df[\"title_content\"] = test_df[\"content\"]+\" \"+test_df[\"title\"]\n",
        "print(\"test data preprocessing Done.....\")\n",
        "\n",
        "print(\"After dropping the NaNs.....\")\n",
        "print(\"biology Data len: {}\".format(biology_df.__len__()))\n",
        "print(\"cooking Data len: {}\".format(cooking_df.__len__()))\n",
        "print(\"cryptology Data len: {}\".format(cryptology_df.__len__()))\n",
        "print(\"diy Data len: {}\".format(diy_df.__len__()))\n",
        "print(\"robotics Data len: {}\".format(robotics_df.__len__()))\n",
        "print(\"travel Data len: {}\".format(travel_df.__len__()))\n",
        "print(\"test Data len: {}\".format(test_df.__len__()))\n",
        "\n",
        "#combining the data\n",
        "combined_data = pd.concat([biology_df[[\"title_content\",\"tags\"]], cooking_df[[\"title_content\", \"tags\"]],\n",
        "               cryptology_df[[\"title_content\",\"tags\"]], diy_df[[\"title_content\",\"tags\"]],\n",
        "               robotics_df[[\"title_content\",\"tags\"]], travel_df[[\"title_content\",\"tags\"]]], axis=0)\n",
        "combined_data = shuffle(combined_data)\n",
        "combined_data = combined_data.reset_index()\n",
        "combined_data.to_csv(os.path.join(DATA_DIR, \"combined_data.csv\"), index=False)\n",
        "print(\"combined data length: {}\".format(combined_data.__len__()))\n"
      ],
      "execution_count": null,
      "outputs": [
        {
          "output_type": "stream",
          "text": [
            "biology data preprocessing Done.....\n",
            "cooking data preprocessing Done.....\n"
          ],
          "name": "stdout"
        },
        {
          "output_type": "stream",
          "text": [
            "/usr/local/lib/python3.6/dist-packages/ipykernel_launcher.py:35: SettingWithCopyWarning: \n",
            "A value is trying to be set on a copy of a slice from a DataFrame\n",
            "\n",
            "See the caveats in the documentation: https://pandas.pydata.org/pandas-docs/stable/user_guide/indexing.html#returning-a-view-versus-a-copy\n"
          ],
          "name": "stderr"
        },
        {
          "output_type": "stream",
          "text": [
            "cryptology data preprocessing Done.....\n",
            "diy data preprocessing Done.....\n",
            "robotics data preprocessing Done.....\n",
            "travel data preprocessing Done.....\n",
            "After dropping the NaNs.....\n",
            "biology Data len: 13196\n",
            "cooking Data len: 15404\n",
            "cryptology Data len: 10432\n",
            "diy Data len: 25918\n",
            "robotics Data len: 2771\n",
            "travel Data len: 19279\n",
            "test Data len: 81926\n",
            "combined data length: 87000\n"
          ],
          "name": "stdout"
        }
      ]
    },
    {
      "cell_type": "markdown",
      "metadata": {
        "id": "22rIsnvPFEXn",
        "colab_type": "text"
      },
      "source": [
        "# Visualizing the most common tags"
      ]
    },
    {
      "cell_type": "code",
      "metadata": {
        "id": "Hq33F2PIFNjQ",
        "colab_type": "code",
        "colab": {
          "base_uri": "https://localhost:8080/",
          "height": 1000
        },
        "outputId": "e58b87a9-ec3a-4ef8-d436-55b17dde57c7"
      },
      "source": [
        "if os.path.isfile(os.path.join(DATA_DIR, \"combined_data.csv\")):\n",
        "    combined_data = pd.read_csv(os.path.join(DATA_DIR, \"combined_data.csv\"))\n",
        "    print(\"combined Data read\")\n",
        "\n",
        "Y = combined_data[[\"tags\"]]\n",
        "\n",
        "Y[\"tags\"] = Y[\"tags\"].apply(lambda x: x.lower().split(\" \"))\n",
        "unique_tags = []\n",
        "total_tags = []\n",
        "for _, row in Y.iterrows():\n",
        "    total_tags.extend(list(row[\"tags\"]))\n",
        "    if len(unique_tags) == 0:\n",
        "        unique_tags = set(row[\"tags\"])\n",
        "    else:\n",
        "        unique_tags = unique_tags.union(set(row[\"tags\"]))\n",
        "number_of_unique_tags = len(unique_tags)\n",
        "print(\"Total number of unique tags: {}\".format(number_of_unique_tags))\n",
        "tags_count = collections.Counter(total_tags)\n",
        "most_common_tags = {i[0]:i[1] for i in tags_count.most_common(100)}\n",
        "print(\"Most Common 100 Tags are: \")\n",
        "pprint(most_common_tags)\n",
        "import matplotlib.pyplot as plt\n",
        "plt.figure(figsize=(40, 20))\n",
        "plt.bar(most_common_tags.keys(), most_common_tags.values(), color='b', width=0.5)\n",
        "plt.show()\n",
        "\n",
        "del unique_tags\n",
        "del tags_count\n",
        "del most_common_tags"
      ],
      "execution_count": null,
      "outputs": [
        {
          "output_type": "stream",
          "text": [
            "combined Data read\n"
          ],
          "name": "stdout"
        },
        {
          "output_type": "stream",
          "text": [
            "/usr/local/lib/python3.6/dist-packages/ipykernel_launcher.py:7: SettingWithCopyWarning: \n",
            "A value is trying to be set on a copy of a slice from a DataFrame.\n",
            "Try using .loc[row_indexer,col_indexer] = value instead\n",
            "\n",
            "See the caveats in the documentation: https://pandas.pydata.org/pandas-docs/stable/user_guide/indexing.html#returning-a-view-versus-a-copy\n",
            "  import sys\n"
          ],
          "name": "stderr"
        },
        {
          "output_type": "stream",
          "text": [
            "Total number of unique tags: 4268\n",
            "Most Common 100 Tags are: \n",
            "{'aes': 923,\n",
            " 'air-conditioning': 431,\n",
            " 'air-travel': 2273,\n",
            " 'airlines': 409,\n",
            " 'airports': 505,\n",
            " 'algorithm-design': 383,\n",
            " 'baking': 1444,\n",
            " 'basement': 597,\n",
            " 'bathroom': 885,\n",
            " 'biochemistry': 984,\n",
            " 'bioinformatics': 663,\n",
            " 'block-cipher': 438,\n",
            " 'botany': 565,\n",
            " 'bread': 687,\n",
            " 'budget': 645,\n",
            " 'cake': 402,\n",
            " 'canada': 608,\n",
            " 'ceiling': 390,\n",
            " 'cell-biology': 759,\n",
            " 'chicken': 488,\n",
            " 'cleaning': 524,\n",
            " 'concrete': 714,\n",
            " 'cryptanalysis': 742,\n",
            " 'customs-and-immigration': 1067,\n",
            " 'dna': 637,\n",
            " 'doors': 637,\n",
            " 'drywall': 714,\n",
            " 'eggs': 449,\n",
            " 'electrical': 4490,\n",
            " 'elliptic-curves': 575,\n",
            " 'encryption': 1783,\n",
            " 'entomology': 378,\n",
            " 'equipment': 816,\n",
            " 'europe': 591,\n",
            " 'evolution': 1159,\n",
            " 'flavor': 378,\n",
            " 'flooring': 533,\n",
            " 'food-safety': 1211,\n",
            " 'france': 516,\n",
            " 'freezing': 402,\n",
            " 'furnace': 389,\n",
            " 'genetics': 1229,\n",
            " 'germany': 538,\n",
            " 'hash': 1141,\n",
            " 'health': 425,\n",
            " 'heating': 469,\n",
            " 'human-biology': 1448,\n",
            " 'hvac': 922,\n",
            " 'india': 556,\n",
            " 'indian-citizens': 593,\n",
            " 'insulation': 696,\n",
            " 'international-travel': 476,\n",
            " 'japan': 484,\n",
            " 'kitchens': 503,\n",
            " 'leak': 408,\n",
            " 'legal': 646,\n",
            " 'lighting': 1003,\n",
            " 'luggage': 669,\n",
            " 'meat': 416,\n",
            " 'microbiology': 421,\n",
            " 'molecular-biology': 863,\n",
            " 'money': 392,\n",
            " 'neuroscience': 614,\n",
            " 'online-resources': 544,\n",
            " 'oven': 413,\n",
            " 'painting': 427,\n",
            " 'passports': 731,\n",
            " 'physiology': 556,\n",
            " 'planning': 392,\n",
            " 'plumbing': 2223,\n",
            " 'proteins': 443,\n",
            " 'protocol-design': 378,\n",
            " 'public-key': 842,\n",
            " 'public-transport': 723,\n",
            " 'refrigerator': 382,\n",
            " 'repair': 832,\n",
            " 'rsa': 1095,\n",
            " 'safety': 709,\n",
            " 'sauce': 401,\n",
            " 'schengen': 1561,\n",
            " 'shower': 490,\n",
            " 'signature': 456,\n",
            " 'species-identification': 416,\n",
            " 'storage-method': 446,\n",
            " 'substitutions': 920,\n",
            " 'switch': 500,\n",
            " 'terminology': 423,\n",
            " 'tickets': 666,\n",
            " 'tile': 436,\n",
            " 'trains': 864,\n",
            " 'transit': 1016,\n",
            " 'uk': 1522,\n",
            " 'usa': 2168,\n",
            " 'visas': 3829,\n",
            " 'walls': 677,\n",
            " 'water': 861,\n",
            " 'windows': 464,\n",
            " 'wiring': 1680,\n",
            " 'wood': 722,\n",
            " 'zoology': 545}\n"
          ],
          "name": "stdout"
        },
        {
          "output_type": "display_data",
          "data": {
            "image/png": "[encoded data removed]",
            "text/plain": [
              "<Figure size 2880x1440 with 1 Axes>"
            ]
          },
          "metadata": {
            "tags": [],
            "needs_background": "light"
          }
        }
      ]
    },
    {
      "cell_type": "markdown",
      "metadata": {
        "id": "jTqWmbgtELK9",
        "colab_type": "text"
      },
      "source": [
        "**Reducing the dimentionality of target tags**"
      ]
    },
    {
      "cell_type": "markdown",
      "metadata": {
        "id": "jV2QT5RMEU1J",
        "colab_type": "text"
      },
      "source": [
        "As we can see above that the target is very sparse matrix, so will do following processing on target tags\n"
      ]
    },
    {
      "cell_type": "markdown",
      "metadata": {
        "id": "fAS-rAumk5XD",
        "colab_type": "text"
      },
      "source": [
        "As we can see that the target matrix is very sparse because of some tags which are occurring with very less frequency. So lets combine those rare tags and make a new tag \"rare\". \n",
        "\n",
        "P.S. We need to do post processing on the results based on a probability based model , Explained in part2."
      ]
    },
    {
      "cell_type": "code",
      "metadata": {
        "id": "rd9erI6GEfkJ",
        "colab_type": "code",
        "colab": {
          "base_uri": "https://localhost:8080/",
          "height": 115
        },
        "outputId": "c4d75fb0-e836-4556-8063-279acaa983d2"
      },
      "source": [
        "counter_dict = {}\n",
        "for tag in total_tags:\n",
        "    if tag not in counter_dict:\n",
        "        counter_dict[tag] = 1\n",
        "    else:\n",
        "        counter_dict[tag] += 1\n",
        "\n",
        "rare_tags = []\n",
        "for key, val in counter_dict.items():\n",
        "    if val<=500:\n",
        "        rare_tags.append(key)\n",
        "\n",
        "from copy import deepcopy\n",
        "def remove_rare_tags(tags):\n",
        "    temp_tags = deepcopy(tags)\n",
        "    is_rare = False\n",
        "    for tag in temp_tags:\n",
        "        if tag in rare_tags:\n",
        "            is_rare = True\n",
        "            tags.remove(tag)\n",
        "    if is_rare:\n",
        "        tags.append(\"rare\")\n",
        "    return tags\n",
        "\n",
        "print(\"Number of rare tags seen: {}\".format(len(rare_tags)))\n",
        "\n",
        "Y[\"tags\"] = Y[\"tags\"].apply(remove_rare_tags)"
      ],
      "execution_count": null,
      "outputs": [
        {
          "output_type": "stream",
          "text": [
            "Number of rare tags seen: 4203\n"
          ],
          "name": "stdout"
        },
        {
          "output_type": "stream",
          "text": [
            "/usr/local/lib/python3.6/dist-packages/ipykernel_launcher.py:27: SettingWithCopyWarning: \n",
            "A value is trying to be set on a copy of a slice from a DataFrame.\n",
            "Try using .loc[row_indexer,col_indexer] = value instead\n",
            "\n",
            "See the caveats in the documentation: https://pandas.pydata.org/pandas-docs/stable/user_guide/indexing.html#returning-a-view-versus-a-copy\n"
          ],
          "name": "stderr"
        }
      ]
    },
    {
      "cell_type": "markdown",
      "metadata": {
        "id": "OkarSj-Y7y63",
        "colab_type": "text"
      },
      "source": [
        "# Model Building"
      ]
    },
    {
      "cell_type": "markdown",
      "metadata": {
        "id": "mRFpmvzZikFh",
        "colab_type": "text"
      },
      "source": [
        "**Calculate weight1 and weight0**"
      ]
    },
    {
      "cell_type": "markdown",
      "metadata": {
        "id": "NQhtFLe_kjMJ",
        "colab_type": "text"
      },
      "source": [
        "As Target martix is very sparse so need to give more weight to 1's else model wont be able to learn with given target.\n",
        "Hence calculating the weight1 and weight0 "
      ]
    },
    {
      "cell_type": "code",
      "metadata": {
        "id": "oNKjQX8dh281",
        "colab_type": "code",
        "colab": {
          "base_uri": "https://localhost:8080/",
          "height": 82
        },
        "outputId": "f1533cf4-d498-4c59-dda8-8c8335f4f5e3"
      },
      "source": [
        "import numpy as np\n",
        "mlb = MultiLabelBinarizer()\n",
        "y = mlb.fit_transform(Y[\"tags\"])\n",
        "print(y.shape)\n",
        "print(np.count_nonzero(y))\n",
        "print(y.shape[0]*y.shape[1])\n",
        "weight0 = np.count_nonzero(y)/(y.shape[0]*y.shape[1])\n",
        "weight1 = 1-weight0\n",
        "print(\"weight1: {}, weight0: {}\".format(weight1, weight0))\n",
        "del y"
      ],
      "execution_count": null,
      "outputs": [
        {
          "output_type": "stream",
          "text": [
            "(87000, 66)\n",
            "142964\n",
            "5742000\n",
            "weight1: 0.9751020550330896, weight0: 0.024897944966910484\n"
          ],
          "name": "stdout"
        }
      ]
    },
    {
      "cell_type": "markdown",
      "metadata": {
        "id": "ynUFd0mVis0d",
        "colab_type": "text"
      },
      "source": [
        "**Define Weighted Binary Cross Entropy**"
      ]
    },
    {
      "cell_type": "code",
      "metadata": {
        "id": "sQUXdIgui2uk",
        "colab_type": "code",
        "colab": {}
      },
      "source": [
        "def wbce( y_true, y_pred, weight1=0.9, weight0=0.1 ) :\n",
        "    y_true = K.clip(y_true, K.epsilon(), 1-K.epsilon())\n",
        "    y_pred = K.clip(y_pred, K.epsilon(), 1-K.epsilon())\n",
        "    logloss = -(y_true * K.log(y_pred) * weight1 + (1 - y_true) * K.log(1 - y_pred) * weight0 )\n",
        "    return K.mean( logloss, axis=-1)\n"
      ],
      "execution_count": null,
      "outputs": []
    },
    {
      "cell_type": "markdown",
      "metadata": {
        "id": "bwVHzJd6mVDE",
        "colab_type": "text"
      },
      "source": [
        "**Model Architecture**\n",
        "Decided the model architeture to be as follows:\n",
        "\n",
        "Input_text_tokes_with_padding->Embedding_Layer->Conv1D->MaxPool1D->Dropout->Conv1D->MaxPool1D->Dropout->Flatten->Dense->Dropout->Dense->Dropout->Dense\n",
        "\n",
        "**Loss Function:**\n",
        "WeightedBinaryCrossEntropy(as defined above)"
      ]
    },
    {
      "cell_type": "code",
      "metadata": {
        "id": "Zam3tCdr75J8",
        "colab_type": "code",
        "colab": {
          "base_uri": "https://localhost:8080/",
          "height": 1000
        },
        "outputId": "8a741578-2de6-4085-909c-805bb6783715"
      },
      "source": [
        "#Extract X and Y\n",
        "X = combined_data[[\"title_content\"]]\n",
        "\n",
        "#Convert tags in to vector of binaries\n",
        "mlb = MultiLabelBinarizer()\n",
        "Y_bin = mlb.fit_transform(Y[\"tags\"])\n",
        "print(\"Binarized the tags.......\")\n",
        "\n",
        "#treating X\n",
        "tokenizer_obj = Tokenizer()\n",
        "tokenizer_obj.fit_on_texts(X[\"title_content\"])\n",
        "max_length = max([len(s.split()) for s in X[\"title_content\"]])\n",
        "vocab_size = len(tokenizer_obj.word_index)+1\n",
        "print(\"vocab_size: {}\".format(vocab_size))\n",
        "title_content_tokens = tokenizer_obj.texts_to_sequences(X[\"title_content\"])\n",
        "title_content_token_len = [len(i) for i in title_content_tokens]\n",
        "title_content_tokens_pad = pad_sequences(title_content_tokens, maxlen=max_length, padding='pre')\n",
        "\n",
        "#model train\n",
        "early_stop_callback = tensorflow.keras.callbacks.EarlyStopping(monitor='val_loss', patience=10)\n",
        "# checkpoint_callback = tensorflow.keras.callbacks.ModelCheckpoint(out_path, monitor='val_loss', verbose=0, save_best_only=True, mode='min')\n",
        "Embedding_dim=100\n",
        "timestep = math.floor(statistics.mean(title_content_token_len))\n",
        "\n",
        "#create model\n",
        "model_input = Input(shape=(max_length,))\n",
        "model = Embedding(vocab_size, Embedding_dim, input_length=max_length)(model_input)\n",
        "model = Convolution1D(filters=256, kernel_size=7, activation='relu')(model)\n",
        "model = MaxPooling1D(pool_size=10)(model)\n",
        "model = Dropout(0.2)(model)\n",
        "model = Convolution1D(filters=128, kernel_size=5, activation='relu')(model)\n",
        "model = MaxPooling1D(pool_size=5)(model)\n",
        "model = Dropout(0.2)(model)\n",
        "model = Flatten()(model)\n",
        "model = Dense(500, activation='relu')(model)\n",
        "model = Dropout(0.5)(model)\n",
        "model = Dense(100, activation='relu')(model)\n",
        "model = Dropout(0.5)(model)\n",
        "model = Dense(Y_bin.shape[1])(model)\n",
        "# model = BatchNormalization()(model)\n",
        "out = Activation('sigmoid')(model)\n",
        "model = Model([model_input], [out])\n",
        "\n",
        "model.compile(loss = wbce, optimizer = tensorflow.keras.optimizers.Adam(learning_rate=0.001), metrics = [micro_f1_score, hamming_loss, jaccard_distance])\n",
        "print(model.summary())\n",
        "model_history = model.fit([title_content_tokens_pad], y=Y_bin, validation_split=0.2, batch_size=128, epochs=30,  callbacks=[early_stop_callback])\n",
        "model.save(os.path.join(DATA_DIR, 'stackExchange_tags_model_Adam.h5'))\n",
        "\n",
        "import matplotlib.pyplot as plt\n",
        "# summarize history for accracy\n",
        "plt.plot(model_history.history['jaccard_distance'])\n",
        "plt.plot(model_history.history['val_jaccard_distance'])\n",
        "plt.title('jaccard distance')\n",
        "plt.ylabel('jaccard distance')\n",
        "plt.xlabel('epoch')\n",
        "plt.legend(['train', 'test'], loc='upper left')\n",
        "plt.show()\n",
        "plt.savefig(os.path.join(DATA_DIR, \"jaccard_distance.png\"))\n",
        "plt.close()\n",
        "\n",
        "plt.plot(model_history.history['loss'])\n",
        "plt.plot(model_history.history['val_loss'])\n",
        "plt.title('model loss')\n",
        "plt.ylabel('loss')\n",
        "plt.xlabel('epoch')\n",
        "plt.legend(['train', 'test'], loc='upper left')\n",
        "plt.show()\n",
        "plt.savefig(os.path.join(DATA_DIR, \"loss.png\"))\n",
        "plt.close()\n",
        "\n",
        "plt.plot(model_history.history['hamming_loss'])\n",
        "plt.plot(model_history.history['val_hamming_loss'])\n",
        "plt.title('hamming_loss')\n",
        "plt.ylabel('hamming_loss')\n",
        "plt.xlabel('epoch')\n",
        "plt.legend(['train', 'test'], loc='upper left')\n",
        "plt.show()\n",
        "plt.savefig(os.path.join(DATA_DIR, \"hamming_loss.png\"))\n",
        "plt.close()\n",
        "\n",
        "plt.plot(model_history.history['micro_f1_score'])\n",
        "plt.plot(model_history.history['val_micro_f1_score'])\n",
        "plt.title('f1_score')\n",
        "plt.ylabel('f1_score')\n",
        "plt.xlabel('epoch')\n",
        "plt.legend(['train', 'test'], loc='upper left')\n",
        "plt.show()\n",
        "plt.savefig(os.path.join(DATA_DIR, \"micro_f1_score.png\"))\n",
        "plt.close()\n"
      ],
      "execution_count": null,
      "outputs": [
        {
          "output_type": "stream",
          "text": [
            "Binarized the tags.......\n",
            "vocab_size: 167055\n",
            "Model: \"model_3\"\n",
            "_________________________________________________________________\n",
            "Layer (type)                 Output Shape              Param #   \n",
            "=================================================================\n",
            "input_4 (InputLayer)         [(None, 2582)]            0         \n",
            "_________________________________________________________________\n",
            "embedding_3 (Embedding)      (None, 2582, 100)         16705500  \n",
            "_________________________________________________________________\n",
            "conv1d_6 (Conv1D)            (None, 2576, 256)         179456    \n",
            "_________________________________________________________________\n",
            "max_pooling1d_6 (MaxPooling1 (None, 257, 256)          0         \n",
            "_________________________________________________________________\n",
            "dropout_12 (Dropout)         (None, 257, 256)          0         \n",
            "_________________________________________________________________\n",
            "conv1d_7 (Conv1D)            (None, 253, 128)          163968    \n",
            "_________________________________________________________________\n",
            "max_pooling1d_7 (MaxPooling1 (None, 50, 128)           0         \n",
            "_________________________________________________________________\n",
            "dropout_13 (Dropout)         (None, 50, 128)           0         \n",
            "_________________________________________________________________\n",
            "flatten_3 (Flatten)          (None, 6400)              0         \n",
            "_________________________________________________________________\n",
            "dense_9 (Dense)              (None, 500)               3200500   \n",
            "_________________________________________________________________\n",
            "dropout_14 (Dropout)         (None, 500)               0         \n",
            "_________________________________________________________________\n",
            "dense_10 (Dense)             (None, 100)               50100     \n",
            "_________________________________________________________________\n",
            "dropout_15 (Dropout)         (None, 100)               0         \n",
            "_________________________________________________________________\n",
            "dense_11 (Dense)             (None, 66)                6666      \n",
            "_________________________________________________________________\n",
            "activation_3 (Activation)    (None, 66)                0         \n",
            "=================================================================\n",
            "Total params: 20,306,190\n",
            "Trainable params: 20,306,190\n",
            "Non-trainable params: 0\n",
            "_________________________________________________________________\n",
            "None\n",
            "Epoch 1/30\n",
            "544/544 [==============================] - 166s 305ms/step - loss: 0.0350 - micro_f1_score: 0.6708 - hamming_loss: 0.0132 - jaccard_distance: 0.0085 - val_loss: 0.0282 - val_micro_f1_score: 0.6786 - val_hamming_loss: 0.0129 - val_jaccard_distance: 0.0083\n",
            "Epoch 2/30\n",
            "544/544 [==============================] - 169s 311ms/step - loss: 0.0279 - micro_f1_score: 0.6783 - hamming_loss: 0.0129 - jaccard_distance: 0.0083 - val_loss: 0.0251 - val_micro_f1_score: 0.6786 - val_hamming_loss: 0.0129 - val_jaccard_distance: 0.0083\n",
            "Epoch 3/30\n",
            "544/544 [==============================] - 169s 310ms/step - loss: 0.0247 - micro_f1_score: 0.6783 - hamming_loss: 0.0129 - jaccard_distance: 0.0083 - val_loss: 0.0234 - val_micro_f1_score: 0.6784 - val_hamming_loss: 0.0129 - val_jaccard_distance: 0.0083\n",
            "Epoch 4/30\n",
            "544/544 [==============================] - 168s 309ms/step - loss: 0.0227 - micro_f1_score: 0.6785 - hamming_loss: 0.0129 - jaccard_distance: 0.0083 - val_loss: 0.0231 - val_micro_f1_score: 0.6785 - val_hamming_loss: 0.0129 - val_jaccard_distance: 0.0083\n",
            "Epoch 5/30\n",
            "544/544 [==============================] - 169s 310ms/step - loss: 0.0216 - micro_f1_score: 0.6786 - hamming_loss: 0.0129 - jaccard_distance: 0.0083 - val_loss: 0.0233 - val_micro_f1_score: 0.6785 - val_hamming_loss: 0.0129 - val_jaccard_distance: 0.0083\n",
            "Epoch 6/30\n",
            "544/544 [==============================] - 169s 310ms/step - loss: 0.0208 - micro_f1_score: 0.6785 - hamming_loss: 0.0129 - jaccard_distance: 0.0083 - val_loss: 0.0236 - val_micro_f1_score: 0.6786 - val_hamming_loss: 0.0129 - val_jaccard_distance: 0.0083\n",
            "Epoch 7/30\n",
            "544/544 [==============================] - 168s 308ms/step - loss: 0.0202 - micro_f1_score: 0.6788 - hamming_loss: 0.0129 - jaccard_distance: 0.0083 - val_loss: 0.0242 - val_micro_f1_score: 0.6788 - val_hamming_loss: 0.0129 - val_jaccard_distance: 0.0083\n",
            "Epoch 8/30\n",
            "544/544 [==============================] - 169s 310ms/step - loss: 0.0196 - micro_f1_score: 0.6790 - hamming_loss: 0.0129 - jaccard_distance: 0.0083 - val_loss: 0.0245 - val_micro_f1_score: 0.6789 - val_hamming_loss: 0.0129 - val_jaccard_distance: 0.0083\n",
            "Epoch 9/30\n",
            "544/544 [==============================] - 168s 310ms/step - loss: 0.0192 - micro_f1_score: 0.6790 - hamming_loss: 0.0129 - jaccard_distance: 0.0083 - val_loss: 0.0243 - val_micro_f1_score: 0.6788 - val_hamming_loss: 0.0129 - val_jaccard_distance: 0.0083\n",
            "Epoch 10/30\n",
            "544/544 [==============================] - 169s 310ms/step - loss: 0.0188 - micro_f1_score: 0.6793 - hamming_loss: 0.0129 - jaccard_distance: 0.0083 - val_loss: 0.0247 - val_micro_f1_score: 0.6786 - val_hamming_loss: 0.0129 - val_jaccard_distance: 0.0083\n",
            "Epoch 11/30\n",
            "544/544 [==============================] - 169s 311ms/step - loss: 0.0186 - micro_f1_score: 0.6792 - hamming_loss: 0.0129 - jaccard_distance: 0.0083 - val_loss: 0.0252 - val_micro_f1_score: 0.6790 - val_hamming_loss: 0.0129 - val_jaccard_distance: 0.0083\n",
            "Epoch 12/30\n",
            "544/544 [==============================] - 169s 310ms/step - loss: 0.0183 - micro_f1_score: 0.6794 - hamming_loss: 0.0129 - jaccard_distance: 0.0083 - val_loss: 0.0254 - val_micro_f1_score: 0.6795 - val_hamming_loss: 0.0129 - val_jaccard_distance: 0.0083\n",
            "Epoch 13/30\n",
            "544/544 [==============================] - 168s 309ms/step - loss: 0.0181 - micro_f1_score: 0.6792 - hamming_loss: 0.0129 - jaccard_distance: 0.0083 - val_loss: 0.0261 - val_micro_f1_score: 0.6786 - val_hamming_loss: 0.0129 - val_jaccard_distance: 0.0083\n",
            "Epoch 14/30\n",
            "544/544 [==============================] - 167s 308ms/step - loss: 0.0179 - micro_f1_score: 0.6793 - hamming_loss: 0.0129 - jaccard_distance: 0.0083 - val_loss: 0.0277 - val_micro_f1_score: 0.6787 - val_hamming_loss: 0.0129 - val_jaccard_distance: 0.0083\n"
          ],
          "name": "stdout"
        },
        {
          "output_type": "display_data",
          "data": {
            "image/png": "[encoded data removed]",
            "text/plain": [
              "<Figure size 432x288 with 1 Axes>"
            ]
          },
          "metadata": {
            "tags": [],
            "needs_background": "light"
          }
        },
        {
          "output_type": "display_data",
          "data": {
            "image/png": "[encoded data removed]",
            "text/plain": [
              "<Figure size 432x288 with 1 Axes>"
            ]
          },
          "metadata": {
            "tags": [],
            "needs_background": "light"
          }
        },
        {
          "output_type": "display_data",
          "data": {
            "image/png": "[encoded data removed]",
            "text/plain": [
              "<Figure size 432x288 with 1 Axes>"
            ]
          },
          "metadata": {
            "tags": [],
            "needs_background": "light"
          }
        },
        {
          "output_type": "display_data",
          "data": {
            "image/png": "[encoded data removed]",
            "text/plain": [
              "<Figure size 432x288 with 1 Axes>"
            ]
          },
          "metadata": {
            "tags": [],
            "needs_background": "light"
          }
        }
      ]
    },
    {
      "cell_type": "markdown",
      "metadata": {
        "id": "Wnh36I5J5UTf",
        "colab_type": "text"
      },
      "source": [
        "# Post Processing and Future work"
      ]
    },
    {
      "cell_type": "markdown",
      "metadata": {
        "id": "ojLXFhyq5FA4",
        "colab_type": "text"
      },
      "source": [
        "**Please refer to Part 2 for result post processing and Future work**"
      ]
    }
  ]
}